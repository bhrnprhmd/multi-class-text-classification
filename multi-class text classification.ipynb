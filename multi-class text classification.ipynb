{
 "cells": [
  {
   "cell_type": "markdown",
   "id": "88d009bd",
   "metadata": {},
   "source": [
    "### Loading the relevant libraries"
   ]
  },
  {
   "cell_type": "code",
   "execution_count": null,
   "id": "9b26b545",
   "metadata": {},
   "outputs": [],
   "source": [
    "import numpy as np\n",
    "import pandas as pd\n",
    "from sklearn.feature_extraction.text import TfidfVectorizer\n",
    "from sklearn.preprocessing import LabelEncoder\n",
    "from sklearn import model_selection\n",
    "import matplotlib.pyplot as plt\n",
    "from sklearn.svm import SVC\n",
    "from sklearn.pipeline import Pipeline\n",
    "from sklearn.metrics import classification_report"
   ]
  },
  {
   "cell_type": "markdown",
   "id": "ed9f3315",
   "metadata": {},
   "source": [
    "### Building the machine learning model"
   ]
  },
  {
   "cell_type": "markdown",
   "id": "6fb0b6dd",
   "metadata": {},
   "source": [
    "#### Loading and pre-processing the dataset:\n"
   ]
  },
  {
   "cell_type": "code",
   "execution_count": null,
   "id": "60f79c4f",
   "metadata": {},
   "outputs": [],
   "source": [
    "# Loading the dataset from csv file\n",
    "data = pd.read_csv('')"
   ]
  },
  {
   "cell_type": "code",
   "execution_count": null,
   "id": "cf742584",
   "metadata": {},
   "outputs": [],
   "source": [
    "## Getting a general overview of the properties of the dataset\n",
    "# Defining a function to check the general properties of the dataset\n",
    "def resumetable(df):\n",
    "    print(f\"Dataset Shape: {df.shape}\")\n",
    "    summary = pd.DataFrame(df.dtypes,columns=['dtypes'])\n",
    "    summary = summary.reset_index()\n",
    "    summary['Name'] = summary['index']\n",
    "    summary = summary[['Name','dtypes']]\n",
    "    summary['Missing'] = df.isnull().sum().values    \n",
    "    summary['Uniques'] = df.nunique().values\n",
    "    \n",
    "    return summary\n",
    "print(resumetable(data))\n",
    "\n",
    "#Plotting the distribution of different classes \n",
    "plt.figure(figsize=(10,4))\n",
    "data.Condition.value_counts().plot(kind='bar')"
   ]
  },
  {
   "cell_type": "markdown",
   "id": "b5ffa2ed",
   "metadata": {},
   "source": [
    "#### Feature engineering and model selection:"
   ]
  },
  {
   "cell_type": "code",
   "execution_count": null,
   "id": "82b8fe79",
   "metadata": {},
   "outputs": [],
   "source": [
    "# Input data\n",
    "X = data['text']\n",
    "target = data['target']\n",
    "\n",
    "# Encoding the target classes\n",
    "LE = LabelEncoder()\n",
    "y = LE.fit_transform(target)\n",
    "\n",
    "# Splitting the data into training and testing \n",
    "X_train, X_test, y_train, y_test = model_selection.train_test_split(X, y, test_size=0.2, stratify=y, random_state=0)\n",
    "\n",
    "# TFIDF vectorizer\n",
    "tfidf = TfidfVectorizer(sublinear_tf= True, \n",
    "                       min_df = 5, \n",
    "                       norm= 'l2', \n",
    "                       ngram_range= (1,2), \n",
    "                       stop_words ='english')\n",
    "\n",
    "# Defining the pipeline: TFIDF + SVM\n",
    "classifier = Pipeline(steps=[\n",
    "('features', tfidf),\n",
    "('model', SVC())\n",
    "])\n",
    "\n",
    "# Fitting the training data to the classifier\n",
    "classifier.fit(X_train.values.astype('U'), y_train)"
   ]
  },
  {
   "cell_type": "code",
   "execution_count": null,
   "id": "dca094d7",
   "metadata": {},
   "outputs": [],
   "source": [
    "# Evaluating the model\n",
    "y_pred = classifier.predict(X_test.values.astype('U'))\n",
    "y_true = y_test\n",
    "print(classification_report(y_true, y_pred))"
   ]
  }
 ],
 "metadata": {
  "kernelspec": {
   "display_name": "Python 3",
   "language": "python",
   "name": "python3"
  },
  "language_info": {
   "codemirror_mode": {
    "name": "ipython",
    "version": 3
   },
   "file_extension": ".py",
   "mimetype": "text/x-python",
   "name": "python",
   "nbconvert_exporter": "python",
   "pygments_lexer": "ipython3",
   "version": "3.8.8"
  }
 },
 "nbformat": 4,
 "nbformat_minor": 5
}
